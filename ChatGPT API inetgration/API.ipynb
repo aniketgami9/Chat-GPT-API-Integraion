{
 "cells": [
  {
   "cell_type": "markdown",
   "id": "39356a18-8576-4774-9641-b70f98b32ec8",
   "metadata": {},
   "source": [
    "Chat GPT API Integration USer input"
   ]
  },
  {
   "cell_type": "code",
   "execution_count": 6,
   "id": "5c6a4138-fd78-4b9e-9ba5-23727d764250",
   "metadata": {},
   "outputs": [
    {
     "name": "stdout",
     "output_type": "stream",
     "text": [
      "Enter the Prompt: \n"
     ]
    },
    {
     "name": "stdin",
     "output_type": "stream",
     "text": [
      "  Sachin Tendulkar\n"
     ]
    },
    {
     "name": "stdout",
     "output_type": "stream",
     "text": [
      "\n",
      "\n",
      "Sachin Tendulkar is a former Indian cricketer widely regarded as one of the greatest batsmen in the history of cricket. He is also known as the \"Little Master\" and the \"Master Blaster\" by his fans.\n",
      "\n",
      "Early Life and Career:\n",
      "\n",
      "Sachin Tendulkar was born on April 24, 1973 in Mumbai, India. He was the youngest of four siblings and showed a keen interest in cricket from a young age. He started playing cricket at the age of 11 and made his debut for the Indian national team at the age of 16 in 1989.\n",
      "\n",
      "Tendulkar's prolific career spanned over 24 years, during which he played 200 test matches and scored 15,921 runs, making him the highest run scorer in the history of test cricket. He also played 463 one-day international (ODI) matches and scored 18,426 runs, making him the highest run scorer in ODI cricket as well.\n",
      "\n",
      "Achievements and Records:\n",
      "\n",
      "Tendulkar holds numerous records in cricket, some of which include:\n",
      "\n",
      "- Highest run scorer in both test and ODI cricket with a total of 34,357 runs.\n",
      "\n",
      "- Most centuries in both test and ODI cricket with a total of 100 centuries.\n",
      "\n",
      "- The only player to score 100 international centuries.\n",
      "\n",
      "- Most runs in a single World Cup tournament with 673 runs in the 2003 World Cup.\n",
      "\n",
      "- Wisden Cricketer of the Year in 1997.\n",
      "\n",
      "- First player to score a double century in a ODI match.\n",
      "\n",
      "- First and only player to play 200 test matches.\n",
      "\n",
      "- Inducted into the International Cricket Council's Hall of Fame in 2019.\n",
      "\n",
      "Retirement:\n",
      "\n",
      "Tendulkar announced his retirement from cricket in 2013, after playing his 200th test match against the West Indies. He was given a grand farewell by the Indian cricket team and his fans, with the Indian government also awarding him with the Bharat Ratna, the highest civilian award in India.\n",
      "\n",
      "Post-Retirement:\n",
      "\n",
      "After his retirement, Tendulkar has remained involved in cricket as a mentor and commentator. He also has various business ventures and is involved in philanthropic work through his foundation, the Sachin Tendulkar Foundation. He was also a member of the Indian parliament from 2012 to 2014.\n",
      "\n",
      "Personal Life:\n",
      "\n",
      "Tendulkar is married to Anjali Tendulkar, a pediatrician, and they have two children, Sara and Arjun. He is known for his humble and down-to-earth personality, and is highly respected by his fans and fellow cricketers.\n"
     ]
    }
   ],
   "source": [
    "import os\n",
    "from openai import OpenAI\n",
    "\n",
    "client = OpenAI()\n",
    "OpenAI.api_key = os.environ[\"OPENAI_API_KEY\"]\n",
    "\n",
    "def search_word_information(word):\n",
    "    prompt = f\"Search Information about {word}\"\n",
    "\n",
    "    response = client.completions.create(\n",
    "        model=\"gpt-3.5-turbo-instruct\",\n",
    "        prompt=prompt,\n",
    "        max_tokens=1024,\n",
    "        n=1,\n",
    "        stop=None,\n",
    "        temperature=0.7,\n",
    "    )\n",
    "\n",
    "    generated_text = response.choices[0].text\n",
    "    print(generated_text)\n",
    "    \n",
    "print('Enter the Prompt: ')\n",
    "\n",
    "search_word_informations =input(\" \")\n",
    "search_word_information(search_word_informations)"
   ]
  },
  {
   "cell_type": "code",
   "execution_count": null,
   "id": "31807c63-5132-46dd-bcf7-831bc7e1f521",
   "metadata": {},
   "outputs": [],
   "source": []
  }
 ],
 "metadata": {
  "kernelspec": {
   "display_name": "Python 3 (ipykernel)",
   "language": "python",
   "name": "python3"
  },
  "language_info": {
   "codemirror_mode": {
    "name": "ipython",
    "version": 3
   },
   "file_extension": ".py",
   "mimetype": "text/x-python",
   "name": "python",
   "nbconvert_exporter": "python",
   "pygments_lexer": "ipython3",
   "version": "3.12.1"
  }
 },
 "nbformat": 4,
 "nbformat_minor": 5
}
